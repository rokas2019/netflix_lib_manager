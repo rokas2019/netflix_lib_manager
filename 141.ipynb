{
 "cells": [
  {
   "cell_type": "markdown",
   "id": "da09c345-55b3-4f8f-94b1-1743ca923f51",
   "metadata": {},
   "source": [
    "# About this Sprint\n\nIt is time for your first Capstone Project.  \nYou will work on this project for the whole Sprint.\n\nWe are glad you have successfully reached the final Sprint of this Module.  \nYou will put everything you have learned in this Module to work.  \nThe outcome of this Module should potentially serve as your portfolio item.\n\nUnlike with previous projects, this time, you will only be provided a dataset and a set of business problems that need to be solved. But you won't get any advice on \"how\" to solve these problems. You will need to use what you've learned to figure out the \"how.\"\n\nAlthough this might seem scary, this is how data engineering looks like in the industry.  \nOften, it's your responsibility to build not only the solution but also decide the architecture of your solution. The more creatively you look at this project, the better.\n\nGood luck!\n\n*Note:* [advice on building your portfolio](https://turingcollege.atlassian.net/wiki/spaces/DLG/pages/1002307695/Portfolio+Items)\n\n## Context\n\nYou have recently started working as a data engineer at Netflix in a brand-new experimental recommender team. Your colleagues are brilliant data analysts and data scientists looking to deeply understand how Netflix users consume content and provide perfectly accurate recommendations for what to watch next.\n\nTo build this recommender, they plan to use simulations. In fact, they have already started to work on the simulation engine, which could simulate the behavior of the users under various circumstances. While they are working on this task, they want you to provide the database and the backend for it. Together with the team and a product manager, you came up with these user stories that you plan to deliver:\n\n- As a data analyst, I want to have convenient access to the [initial data](https://www.kaggle.com/datasets/thedevastator/the-ultimate-netflix-tv-shows-and-movies-dataset?select=Best+Shows+Netflix.csv) so that I can query and analyze it using ad-hoc SQL queries.\n- As a data scientist, I want to have access to the data through a Python API using SQL queries so that my simulation engine can get data.\n- As a data scientist, I want to be able to write to the database using a Python API using SQL so that my simulation engine can write their predictions.\n\nP.S. the APIs that you are building don't have to (but can) be web-based, you can choose any architecture that you like.\n\n## Objectives for this Part\n\n- Practice translating business requirements into data engineering tasks.\n- Practice setting up an RDBMS.\n- Practice normalizing tables.\n- Practice creating and exposing APIs for reading and writing data.\n- Practice documenting your solutions.\n\n## Requirements\n\n- Create a plan for your deliveries. This should include your assumptions, overall objectives, and objectives for each step in your plan. You are not expected to have a plan for the whole project but instead have a clear understanding of what you'll try to achieve in the next step and build the plan one step at a time.\n- Evaluate various RDBMS and select one for the project. Provide arguments for your decision.\n- Choose the right data model and transform your data. You are free to make assumptions as long as you explain them.\n- Create APIs that manage read and write access to the database.\n- Build a demo recommender engine to showcase how it can read and write data using your API.\n- Provide suggestions about how your solution and models can be improved.\n\n## Bonus Challenges\n\nAs a data engineer, you will spend a significant amount of your time learning new things.  \nSometimes you will do that for fun, but most of the time, you will have an urgent problem, and you will need to quickly learn some new skills to be able to solve it.  \nIt is essential to build this skill gradually - it is extremely valuable for all data engineers.  \nThe bonus challenges are designed to simulate these types of situations.  \nThese challenges require you to do something that we haven't covered in the course yet.  \nInstead of trying to do all of the bonus challenges, concentrate on just one or two and do them well.  \nAll of the bonus challenges are optional - no points will be deducted if you skip them.\n\n- Write unit and integration tests for your solution.\n- Build an actual recommender engine to recommend movies.\n\n## Evaluation Criteria\n\n- Adherence to the requirements. How well did you meet the requirements?\n- Code quality. Was your code well-structured? Did you use the correct levels of abstraction? Did you remove commented-out and unused code? Did you adhere to the PEP8?\n- Code performance. Did you use suitable algorithms and data structures to solve the problems?\n- Presentation quality. Coherence of the presentation of the project, how well everything is explained.\n- General understanding of the topic.\n\n## Project Review\n\nDuring your project review, you should present it as if talking to a technical team lead and a senior co-worker working in your team.  \nYou can assume that they will have strong data engineering and software engineering skills - they will understand technical jargon, they are expected to notice things that could have been done better, ask about the choices you've made (especially if you've made some questionable choices).  \nIn addition, be careful not to spend your time explaining trivial concepts or code snippets that are simple - your best bet is to focus your presentation on the more difficult portions of your code.\n\n## Resources\n\nThis task is based on the Netflix TV Shows and Movies (2022 Updated) dataset.\n"
   ]
  },
  {
   "cell_type": "markdown",
   "id": "bfa58df0-2740-435c-b8e2-30a4177fe682",
   "metadata": {},
   "source": [
    "## General Project Review Guidelines\n\nFor an in-depth explanation about how project reviews work at Turing College, please read [this doc](https://turingcollege.atlassian.net/wiki/spaces/DLG/pages/537395951/Peer+expert+reviews+corrections).\n"
   ]
  }
 ],
 "metadata": {
  "kernelspec": {
   "display_name": "Python 3",
   "language": "python",
   "name": "python3"
  },
  "language_info": {
   "codemirror_mode": {
    "name": "ipython",
    "version": 3
   },
   "file_extension": ".py",
   "mimetype": "text/x-python",
   "name": "python",
   "nbconvert_exporter": "python",
   "pygments_lexer": "ipython3",
   "version": "3.9.5"
  }
 },
 "nbformat": 4,
 "nbformat_minor": 5
}
